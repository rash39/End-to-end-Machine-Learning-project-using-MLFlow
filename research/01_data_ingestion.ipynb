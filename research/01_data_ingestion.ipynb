{
 "cells": [
  {
   "cell_type": "code",
   "execution_count": 1,
   "metadata": {},
   "outputs": [],
   "source": [
    "import os"
   ]
  },
  {
   "cell_type": "code",
   "execution_count": 2,
   "metadata": {},
   "outputs": [
    {
     "data": {
      "text/plain": [
       "'c:\\\\Users\\\\Rashmitha\\\\OneDrive\\\\Documents\\\\Self Learning\\\\End-to-end-Machine-Learning-project-using-MLFlow\\\\research'"
      ]
     },
     "execution_count": 2,
     "metadata": {},
     "output_type": "execute_result"
    }
   ],
   "source": [
    "%pwd"
   ]
  },
  {
   "cell_type": "code",
   "execution_count": 3,
   "metadata": {},
   "outputs": [],
   "source": [
    "os.chdir(\"../\")"
   ]
  },
  {
   "cell_type": "code",
   "execution_count": 4,
   "metadata": {},
   "outputs": [
    {
     "data": {
      "text/plain": [
       "'c:\\\\Users\\\\Rashmitha\\\\OneDrive\\\\Documents\\\\Self Learning\\\\End-to-end-Machine-Learning-project-using-MLFlow'"
      ]
     },
     "execution_count": 4,
     "metadata": {},
     "output_type": "execute_result"
    }
   ],
   "source": [
    "%pwd"
   ]
  },
  {
   "cell_type": "code",
   "execution_count": 29,
   "metadata": {},
   "outputs": [],
   "source": [
    "from dataclasses import dataclass\n",
    "from pathlib import Path\n",
    "\n",
    "@dataclass(frozen=True)\n",
    "class DataIngestionConfig:\n",
    "    root_dir: Path\n",
    "    source_URL: str\n",
    "    local_data_file: Path\n",
    "    unzip_dir: Path"
   ]
  },
  {
   "cell_type": "code",
   "execution_count": 30,
   "metadata": {},
   "outputs": [
    {
     "name": "stdout",
     "output_type": "stream",
     "text": [
      "Requirement already satisfied: python-box in c:\\users\\rashmitha\\anaconda3\\lib\\site-packages (7.1.1)\n",
      "Note: you may need to restart the kernel to use updated packages.\n"
     ]
    }
   ],
   "source": [
    "pip install python-box\n"
   ]
  },
  {
   "cell_type": "code",
   "execution_count": 12,
   "metadata": {},
   "outputs": [
    {
     "name": "stdout",
     "output_type": "stream",
     "text": [
      "Collecting ensure\n",
      "  Downloading ensure-1.0.3-py3-none-any.whl (15 kB)\n",
      "Requirement already satisfied: six>=1.11.0 in c:\\users\\rashmitha\\anaconda3\\lib\\site-packages (from ensure) (1.16.0)\n",
      "Installing collected packages: ensure\n",
      "Successfully installed ensure-1.0.3\n",
      "Note: you may need to restart the kernel to use updated packages.\n"
     ]
    }
   ],
   "source": [
    "pip install ensure"
   ]
  },
  {
   "cell_type": "code",
   "execution_count": 31,
   "metadata": {},
   "outputs": [],
   "source": [
    "from src.mlProject.constants import *\n",
    "from src.mlProject.utils.common import read_yaml,create_directories"
   ]
  },
  {
   "cell_type": "code",
   "execution_count": 32,
   "metadata": {},
   "outputs": [],
   "source": [
    "class ConfigurationManager:\n",
    "    def __init__(\n",
    "        self,\n",
    "        config_filepath = CONFIG_FILE_PATH,\n",
    "        params_filepath = PARAMS_FILE_PATH,\n",
    "        schema_filepath = SCHEMA_FILE_PATH):\n",
    "\n",
    "        self.config = read_yaml(config_filepath)\n",
    "        self.params = read_yaml(params_filepath)\n",
    "        self.schema = read_yaml(schema_filepath)\n",
    "\n",
    "        create_directories([self.config.artifacts_root])\n",
    "\n",
    "\n",
    "    \n",
    "    def get_data_ingestion_config(self) -> DataIngestionConfig:\n",
    "        config = self.config.data_ingestion\n",
    "\n",
    "        create_directories([config.root_dir])\n",
    "\n",
    "        data_ingestion_config = DataIngestionConfig(\n",
    "            root_dir=config.root_dir,\n",
    "            source_URL=config.source_URL,\n",
    "            local_data_file=config.local_data_file,\n",
    "            unzip_dir=config.unzip_dir \n",
    "        )\n",
    "\n",
    "        return data_ingestion_config"
   ]
  },
  {
   "cell_type": "code",
   "execution_count": 33,
   "metadata": {},
   "outputs": [],
   "source": [
    "import os\n",
    "import urllib.request as request\n",
    "import zipfile\n",
    "from src.mlProject import logger\n",
    "from src.mlProject.utils.common import get_size"
   ]
  },
  {
   "cell_type": "code",
   "execution_count": 34,
   "metadata": {},
   "outputs": [],
   "source": [
    "class DataIngestion:\n",
    "    def __init__(self, config: DataIngestionConfig):\n",
    "        self.config = config\n",
    "    \n",
    "    def download_file(self):\n",
    "        if not os.path.exists(self.config.local_data_file):\n",
    "            filename, headers = request.urlretrieve(\n",
    "                url = self.config.source_URL,\n",
    "                filename = self.config.local_data_file\n",
    "            )\n",
    "            logger.info(f\"{filename} download! with following info: \\n{headers}\")\n",
    "        else:\n",
    "            logger.info(f\"File already exists of size: {get_size(Path(self.config.local_data_file))}\")\n",
    "\n",
    "\n",
    "    def extract_zip_file(self):\n",
    "        \"\"\"\n",
    "        zip_file_path: str\n",
    "        Extracts the zip file into the data directory\n",
    "        Function returns None\n",
    "        \"\"\"\n",
    "        unzip_path = self.config.unzip_dir\n",
    "        os.makedirs(unzip_path, exist_ok=True)\n",
    "        with zipfile.ZipFile(self.config.local_data_file, 'r') as zip_ref:\n",
    "            zip_ref.extractall(unzip_path)\n",
    "  "
   ]
  },
  {
   "cell_type": "code",
   "execution_count": 38,
   "metadata": {},
   "outputs": [
    {
     "name": "stdout",
     "output_type": "stream",
     "text": [
      "[2023-12-03 17:50:47,601: INFO: common: yaml file: config\\config.yaml loaded successfully]\n",
      "[2023-12-03 17:50:47,602: INFO: common: yaml file: params.yaml loaded successfully]\n",
      "[2023-12-03 17:50:47,603: INFO: common: yaml file: schema.yaml loaded successfully]\n",
      "[2023-12-03 17:50:47,604: INFO: common: created directory at: artifacts]\n",
      "[2023-12-03 17:50:47,605: INFO: common: created directory at: artifacts/data_ingestion]\n"
     ]
    },
    {
     "name": "stdout",
     "output_type": "stream",
     "text": [
      "[2023-12-03 17:50:48,114: INFO: 1345919267: artifacts/data_ingestion/data.zip download! with following info: \n",
      "Server: GitHub.com\n",
      "Date: Sun, 03 Dec 2023 12:20:48 GMT\n",
      "Content-Type: text/html; charset=utf-8\n",
      "Vary: X-PJAX, X-PJAX-Container, Turbo-Visit, Turbo-Frame, Accept-Encoding, Accept, X-Requested-With\n",
      "ETag: W/\"e96422b21fc2c1182e315df9986972ad\"\n",
      "Cache-Control: max-age=0, private, must-revalidate\n",
      "Strict-Transport-Security: max-age=31536000; includeSubdomains; preload\n",
      "X-Frame-Options: deny\n",
      "X-Content-Type-Options: nosniff\n",
      "X-XSS-Protection: 0\n",
      "Referrer-Policy: no-referrer-when-downgrade\n",
      "Content-Security-Policy: default-src 'none'; base-uri 'self'; child-src github.com/assets-cdn/worker/ gist.github.com/assets-cdn/worker/; connect-src 'self' uploads.github.com www.githubstatus.com collector.github.com raw.githubusercontent.com api.githubcopilot.com api.github.com github-cloud.s3.amazonaws.com github-production-repository-file-5c1aeb.s3.amazonaws.com github-production-upload-manifest-file-7fdce7.s3.amazonaws.com github-production-user-asset-6210df.s3.amazonaws.com cdn.optimizely.com logx.optimizely.com/v1/events objects-origin.githubusercontent.com *.actions.githubusercontent.com wss://*.actions.githubusercontent.com productionresultssa0.blob.core.windows.net/ productionresultssa1.blob.core.windows.net/ productionresultssa2.blob.core.windows.net/ productionresultssa3.blob.core.windows.net/ productionresultssa4.blob.core.windows.net/ productionresultssa5.blob.core.windows.net/ productionresultssa6.blob.core.windows.net/ productionresultssa7.blob.core.windows.net/ productionresultssa8.blob.core.windows.net/ productionresultssa9.blob.core.windows.net/ github-production-repository-image-32fea6.s3.amazonaws.com github-production-release-asset-2e65be.s3.amazonaws.com insights.github.com wss://alive.github.com; font-src github.githubassets.com; form-action 'self' github.com gist.github.com objects-origin.githubusercontent.com; frame-ancestors 'none'; frame-src viewscreen.githubusercontent.com notebooks.githubusercontent.com support.github.com; img-src 'self' data: github.githubassets.com media.githubusercontent.com camo.githubusercontent.com identicons.github.com avatars.githubusercontent.com github-cloud.s3.amazonaws.com objects.githubusercontent.com secured-user-images.githubusercontent.com/ user-images.githubusercontent.com/ private-user-images.githubusercontent.com opengraph.githubassets.com github-production-user-asset-6210df.s3.amazonaws.com customer-stories-feed.github.com spotlights-feed.github.com objects-origin.githubusercontent.com *.githubusercontent.com; manifest-src 'self'; media-src github.com user-images.githubusercontent.com/ secured-user-images.githubusercontent.com/ private-user-images.githubusercontent.com github-production-user-asset-6210df.s3.amazonaws.com gist.github.com; script-src github.githubassets.com; style-src 'unsafe-inline' github.githubassets.com; upgrade-insecure-requests; worker-src github.com/assets-cdn/worker/ gist.github.com/assets-cdn/worker/\n",
      "Set-Cookie: _gh_sess=C0Y7ZVKTM2so0FPKarRZBURlq8MeHIjhOvToVWT0fZmrOmwwiSpYOq9uCGU4%2F6IaYam8XUXkfKhAxWg7nkADXiFGA0oLPbfTqe2PtJtL3fccgt1du0U2PbcuRzT2D0ZklvZqZJdKUQNBSRlvCA8nyprOCZeG7lWaj4IjmxeJgyDCoMFUYrGuYnJK4RwfGKvYKNzuLtvVArQl2xsL%2FKGd2fe2eKZB16ijFTm8Xcc0Q7ePgSQwb3JQggX8sPGLo7okLA6p2Z6Uni5kBbp1sIAmZQ%3D%3D--tdcVnWq%2Ba41oR5vD--CLM8pI452oRC6R86DYd3hA%3D%3D; Path=/; HttpOnly; Secure; SameSite=Lax\n",
      "Set-Cookie: _octo=GH1.1.1369861270.1701606048; Path=/; Domain=github.com; Expires=Tue, 03 Dec 2024 12:20:48 GMT; Secure; SameSite=Lax\n",
      "Set-Cookie: logged_in=no; Path=/; Domain=github.com; Expires=Tue, 03 Dec 2024 12:20:48 GMT; HttpOnly; Secure; SameSite=Lax\n",
      "Accept-Ranges: bytes\n",
      "Transfer-Encoding: chunked\n",
      "X-GitHub-Request-Id: ED87:31F76F:33CAF2:3BBFF1:656C72A0\n",
      "connection: close\n",
      "\n",
      "]\n"
     ]
    },
    {
     "ename": "BadZipFile",
     "evalue": "File is not a zip file",
     "output_type": "error",
     "traceback": [
      "\u001b[1;31m---------------------------------------------------------------------------\u001b[0m",
      "\u001b[1;31mBadZipFile\u001b[0m                                Traceback (most recent call last)",
      "\u001b[1;32mc:\\Users\\Rashmitha\\OneDrive\\Documents\\Self Learning\\End-to-end-Machine-Learning-project-using-MLFlow\\research\\01_data_ingestion.ipynb Cell 12\u001b[0m line \u001b[0;36m<cell line: 1>\u001b[1;34m()\u001b[0m\n\u001b[0;32m      <a href='vscode-notebook-cell:/c%3A/Users/Rashmitha/OneDrive/Documents/Self%20Learning/End-to-end-Machine-Learning-project-using-MLFlow/research/01_data_ingestion.ipynb#X13sZmlsZQ%3D%3D?line=5'>6</a>\u001b[0m     data_ingestion\u001b[39m.\u001b[39mextract_zip_file()\n\u001b[0;32m      <a href='vscode-notebook-cell:/c%3A/Users/Rashmitha/OneDrive/Documents/Self%20Learning/End-to-end-Machine-Learning-project-using-MLFlow/research/01_data_ingestion.ipynb#X13sZmlsZQ%3D%3D?line=6'>7</a>\u001b[0m \u001b[39mexcept\u001b[39;00m \u001b[39mException\u001b[39;00m \u001b[39mas\u001b[39;00m e:\n\u001b[1;32m----> <a href='vscode-notebook-cell:/c%3A/Users/Rashmitha/OneDrive/Documents/Self%20Learning/End-to-end-Machine-Learning-project-using-MLFlow/research/01_data_ingestion.ipynb#X13sZmlsZQ%3D%3D?line=7'>8</a>\u001b[0m     \u001b[39mraise\u001b[39;00m e\n",
      "\u001b[1;32mc:\\Users\\Rashmitha\\OneDrive\\Documents\\Self Learning\\End-to-end-Machine-Learning-project-using-MLFlow\\research\\01_data_ingestion.ipynb Cell 12\u001b[0m line \u001b[0;36m<cell line: 1>\u001b[1;34m()\u001b[0m\n\u001b[0;32m      <a href='vscode-notebook-cell:/c%3A/Users/Rashmitha/OneDrive/Documents/Self%20Learning/End-to-end-Machine-Learning-project-using-MLFlow/research/01_data_ingestion.ipynb#X13sZmlsZQ%3D%3D?line=3'>4</a>\u001b[0m     data_ingestion \u001b[39m=\u001b[39m DataIngestion(config\u001b[39m=\u001b[39mdata_ingestion_config)\n\u001b[0;32m      <a href='vscode-notebook-cell:/c%3A/Users/Rashmitha/OneDrive/Documents/Self%20Learning/End-to-end-Machine-Learning-project-using-MLFlow/research/01_data_ingestion.ipynb#X13sZmlsZQ%3D%3D?line=4'>5</a>\u001b[0m     data_ingestion\u001b[39m.\u001b[39mdownload_file()\n\u001b[1;32m----> <a href='vscode-notebook-cell:/c%3A/Users/Rashmitha/OneDrive/Documents/Self%20Learning/End-to-end-Machine-Learning-project-using-MLFlow/research/01_data_ingestion.ipynb#X13sZmlsZQ%3D%3D?line=5'>6</a>\u001b[0m     data_ingestion\u001b[39m.\u001b[39;49mextract_zip_file()\n\u001b[0;32m      <a href='vscode-notebook-cell:/c%3A/Users/Rashmitha/OneDrive/Documents/Self%20Learning/End-to-end-Machine-Learning-project-using-MLFlow/research/01_data_ingestion.ipynb#X13sZmlsZQ%3D%3D?line=6'>7</a>\u001b[0m \u001b[39mexcept\u001b[39;00m \u001b[39mException\u001b[39;00m \u001b[39mas\u001b[39;00m e:\n\u001b[0;32m      <a href='vscode-notebook-cell:/c%3A/Users/Rashmitha/OneDrive/Documents/Self%20Learning/End-to-end-Machine-Learning-project-using-MLFlow/research/01_data_ingestion.ipynb#X13sZmlsZQ%3D%3D?line=7'>8</a>\u001b[0m     \u001b[39mraise\u001b[39;00m e\n",
      "\u001b[1;32mc:\\Users\\Rashmitha\\OneDrive\\Documents\\Self Learning\\End-to-end-Machine-Learning-project-using-MLFlow\\research\\01_data_ingestion.ipynb Cell 12\u001b[0m line \u001b[0;36mDataIngestion.extract_zip_file\u001b[1;34m(self)\u001b[0m\n\u001b[0;32m     <a href='vscode-notebook-cell:/c%3A/Users/Rashmitha/OneDrive/Documents/Self%20Learning/End-to-end-Machine-Learning-project-using-MLFlow/research/01_data_ingestion.ipynb#X13sZmlsZQ%3D%3D?line=21'>22</a>\u001b[0m unzip_path \u001b[39m=\u001b[39m \u001b[39mself\u001b[39m\u001b[39m.\u001b[39mconfig\u001b[39m.\u001b[39munzip_dir\n\u001b[0;32m     <a href='vscode-notebook-cell:/c%3A/Users/Rashmitha/OneDrive/Documents/Self%20Learning/End-to-end-Machine-Learning-project-using-MLFlow/research/01_data_ingestion.ipynb#X13sZmlsZQ%3D%3D?line=22'>23</a>\u001b[0m os\u001b[39m.\u001b[39mmakedirs(unzip_path, exist_ok\u001b[39m=\u001b[39m\u001b[39mTrue\u001b[39;00m)\n\u001b[1;32m---> <a href='vscode-notebook-cell:/c%3A/Users/Rashmitha/OneDrive/Documents/Self%20Learning/End-to-end-Machine-Learning-project-using-MLFlow/research/01_data_ingestion.ipynb#X13sZmlsZQ%3D%3D?line=23'>24</a>\u001b[0m \u001b[39mwith\u001b[39;00m zipfile\u001b[39m.\u001b[39;49mZipFile(\u001b[39mself\u001b[39;49m\u001b[39m.\u001b[39;49mconfig\u001b[39m.\u001b[39;49mlocal_data_file, \u001b[39m'\u001b[39;49m\u001b[39mr\u001b[39;49m\u001b[39m'\u001b[39;49m) \u001b[39mas\u001b[39;00m zip_ref:\n\u001b[0;32m     <a href='vscode-notebook-cell:/c%3A/Users/Rashmitha/OneDrive/Documents/Self%20Learning/End-to-end-Machine-Learning-project-using-MLFlow/research/01_data_ingestion.ipynb#X13sZmlsZQ%3D%3D?line=24'>25</a>\u001b[0m     zip_ref\u001b[39m.\u001b[39mextractall(unzip_path)\n",
      "File \u001b[1;32mc:\\Users\\Rashmitha\\anaconda3\\lib\\zipfile.py:1266\u001b[0m, in \u001b[0;36mZipFile.__init__\u001b[1;34m(self, file, mode, compression, allowZip64, compresslevel, strict_timestamps)\u001b[0m\n\u001b[0;32m   1264\u001b[0m \u001b[39mtry\u001b[39;00m:\n\u001b[0;32m   1265\u001b[0m     \u001b[39mif\u001b[39;00m mode \u001b[39m==\u001b[39m \u001b[39m'\u001b[39m\u001b[39mr\u001b[39m\u001b[39m'\u001b[39m:\n\u001b[1;32m-> 1266\u001b[0m         \u001b[39mself\u001b[39;49m\u001b[39m.\u001b[39;49m_RealGetContents()\n\u001b[0;32m   1267\u001b[0m     \u001b[39melif\u001b[39;00m mode \u001b[39min\u001b[39;00m (\u001b[39m'\u001b[39m\u001b[39mw\u001b[39m\u001b[39m'\u001b[39m, \u001b[39m'\u001b[39m\u001b[39mx\u001b[39m\u001b[39m'\u001b[39m):\n\u001b[0;32m   1268\u001b[0m         \u001b[39m# set the modified flag so central directory gets written\u001b[39;00m\n\u001b[0;32m   1269\u001b[0m         \u001b[39m# even if no files are added to the archive\u001b[39;00m\n\u001b[0;32m   1270\u001b[0m         \u001b[39mself\u001b[39m\u001b[39m.\u001b[39m_didModify \u001b[39m=\u001b[39m \u001b[39mTrue\u001b[39;00m\n",
      "File \u001b[1;32mc:\\Users\\Rashmitha\\anaconda3\\lib\\zipfile.py:1333\u001b[0m, in \u001b[0;36mZipFile._RealGetContents\u001b[1;34m(self)\u001b[0m\n\u001b[0;32m   1331\u001b[0m     \u001b[39mraise\u001b[39;00m BadZipFile(\u001b[39m\"\u001b[39m\u001b[39mFile is not a zip file\u001b[39m\u001b[39m\"\u001b[39m)\n\u001b[0;32m   1332\u001b[0m \u001b[39mif\u001b[39;00m \u001b[39mnot\u001b[39;00m endrec:\n\u001b[1;32m-> 1333\u001b[0m     \u001b[39mraise\u001b[39;00m BadZipFile(\u001b[39m\"\u001b[39m\u001b[39mFile is not a zip file\u001b[39m\u001b[39m\"\u001b[39m)\n\u001b[0;32m   1334\u001b[0m \u001b[39mif\u001b[39;00m \u001b[39mself\u001b[39m\u001b[39m.\u001b[39mdebug \u001b[39m>\u001b[39m \u001b[39m1\u001b[39m:\n\u001b[0;32m   1335\u001b[0m     \u001b[39mprint\u001b[39m(endrec)\n",
      "\u001b[1;31mBadZipFile\u001b[0m: File is not a zip file"
     ]
    }
   ],
   "source": [
    "try:\n",
    "    config = ConfigurationManager()\n",
    "    data_ingestion_config = config.get_data_ingestion_config()\n",
    "    data_ingestion = DataIngestion(config=data_ingestion_config)\n",
    "    data_ingestion.download_file()\n",
    "    data_ingestion.extract_zip_file()\n",
    "except Exception as e:\n",
    "    raise e"
   ]
  },
  {
   "cell_type": "code",
   "execution_count": null,
   "metadata": {},
   "outputs": [],
   "source": []
  }
 ],
 "metadata": {
  "kernelspec": {
   "display_name": "base",
   "language": "python",
   "name": "python3"
  },
  "language_info": {
   "codemirror_mode": {
    "name": "ipython",
    "version": 3
   },
   "file_extension": ".py",
   "mimetype": "text/x-python",
   "name": "python",
   "nbconvert_exporter": "python",
   "pygments_lexer": "ipython3",
   "version": "3.9.12"
  }
 },
 "nbformat": 4,
 "nbformat_minor": 2
}
